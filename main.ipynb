{
 "cells": [
  {
   "cell_type": "code",
   "execution_count": 69,
   "id": "d3803eb5",
   "metadata": {},
   "outputs": [],
   "source": [
    "import pandas as pd\n",
    "import numpy as np\n",
    "import matplotlib.pyplot as plt\n",
    "from sklearn.model_selection import train_test_split\n",
    "from sklearn.preprocessing import LabelEncoder, StandardScaler  \n",
    "from sklearn.ensemble import RandomForestClassifier\n",
    "from sklearn.metrics import classification_report, confusion_matrix\n",
    "from scipy.stats import percentileofscore\n",
    "from sklearn.neighbors import KNeighborsClassifier\n",
    "from sklearn.metrics import accuracy_score, make_scorer\n",
    "from sklearn.model_selection import GridSearchCV, StratifiedKFold\n",
    "from sklearn.linear_model import LogisticRegression\n",
    "from imblearn.over_sampling import ADASYN\n",
    "from imblearn.over_sampling import RandomOverSampler\n",
    "from sklearn.ensemble import GradientBoostingRegressor\n",
    "from sklearn.metrics import mean_squared_error, r2_score\n",
    "\n"
   ]
  },
  {
   "cell_type": "code",
   "execution_count": 70,
   "id": "b3cfc5ee",
   "metadata": {},
   "outputs": [
    {
     "data": {
      "application/vnd.microsoft.datawrangler.viewer.v0+json": {
       "columns": [
        {
         "name": "index",
         "rawType": "int64",
         "type": "integer"
        },
        {
         "name": "True_index",
         "rawType": "int64",
         "type": "integer"
        },
        {
         "name": "Store_ID",
         "rawType": "int64",
         "type": "integer"
        },
        {
         "name": "Day_of_week",
         "rawType": "int64",
         "type": "integer"
        },
        {
         "name": "Date",
         "rawType": "object",
         "type": "string"
        },
        {
         "name": "Nb_customers_on_day",
         "rawType": "int64",
         "type": "integer"
        },
        {
         "name": "Open",
         "rawType": "int64",
         "type": "integer"
        },
        {
         "name": "Promotion",
         "rawType": "int64",
         "type": "integer"
        },
        {
         "name": "State_holiday",
         "rawType": "object",
         "type": "string"
        },
        {
         "name": "School_holiday",
         "rawType": "int64",
         "type": "integer"
        },
        {
         "name": "Sales",
         "rawType": "int64",
         "type": "integer"
        }
       ],
       "ref": "b11df5ef-ab72-4a26-84fc-f1ec32503002",
       "rows": [
        [
         "0",
         "0",
         "625",
         "3",
         "2013-11-06",
         "641",
         "1",
         "1",
         "0",
         "0",
         "7293"
        ],
        [
         "1",
         "1",
         "293",
         "2",
         "2013-07-16",
         "877",
         "1",
         "1",
         "0",
         "1",
         "7060"
        ],
        [
         "2",
         "2",
         "39",
         "4",
         "2014-01-23",
         "561",
         "1",
         "1",
         "0",
         "0",
         "4565"
        ],
        [
         "3",
         "3",
         "676",
         "4",
         "2013-09-26",
         "1584",
         "1",
         "1",
         "0",
         "0",
         "6380"
        ],
        [
         "4",
         "4",
         "709",
         "3",
         "2014-01-22",
         "1477",
         "1",
         "1",
         "0",
         "0",
         "11647"
        ]
       ],
       "shape": {
        "columns": 10,
        "rows": 5
       }
      },
      "text/html": [
       "<div>\n",
       "<style scoped>\n",
       "    .dataframe tbody tr th:only-of-type {\n",
       "        vertical-align: middle;\n",
       "    }\n",
       "\n",
       "    .dataframe tbody tr th {\n",
       "        vertical-align: top;\n",
       "    }\n",
       "\n",
       "    .dataframe thead th {\n",
       "        text-align: right;\n",
       "    }\n",
       "</style>\n",
       "<table border=\"1\" class=\"dataframe\">\n",
       "  <thead>\n",
       "    <tr style=\"text-align: right;\">\n",
       "      <th></th>\n",
       "      <th>True_index</th>\n",
       "      <th>Store_ID</th>\n",
       "      <th>Day_of_week</th>\n",
       "      <th>Date</th>\n",
       "      <th>Nb_customers_on_day</th>\n",
       "      <th>Open</th>\n",
       "      <th>Promotion</th>\n",
       "      <th>State_holiday</th>\n",
       "      <th>School_holiday</th>\n",
       "      <th>Sales</th>\n",
       "    </tr>\n",
       "  </thead>\n",
       "  <tbody>\n",
       "    <tr>\n",
       "      <th>0</th>\n",
       "      <td>0</td>\n",
       "      <td>625</td>\n",
       "      <td>3</td>\n",
       "      <td>2013-11-06</td>\n",
       "      <td>641</td>\n",
       "      <td>1</td>\n",
       "      <td>1</td>\n",
       "      <td>0</td>\n",
       "      <td>0</td>\n",
       "      <td>7293</td>\n",
       "    </tr>\n",
       "    <tr>\n",
       "      <th>1</th>\n",
       "      <td>1</td>\n",
       "      <td>293</td>\n",
       "      <td>2</td>\n",
       "      <td>2013-07-16</td>\n",
       "      <td>877</td>\n",
       "      <td>1</td>\n",
       "      <td>1</td>\n",
       "      <td>0</td>\n",
       "      <td>1</td>\n",
       "      <td>7060</td>\n",
       "    </tr>\n",
       "    <tr>\n",
       "      <th>2</th>\n",
       "      <td>2</td>\n",
       "      <td>39</td>\n",
       "      <td>4</td>\n",
       "      <td>2014-01-23</td>\n",
       "      <td>561</td>\n",
       "      <td>1</td>\n",
       "      <td>1</td>\n",
       "      <td>0</td>\n",
       "      <td>0</td>\n",
       "      <td>4565</td>\n",
       "    </tr>\n",
       "    <tr>\n",
       "      <th>3</th>\n",
       "      <td>3</td>\n",
       "      <td>676</td>\n",
       "      <td>4</td>\n",
       "      <td>2013-09-26</td>\n",
       "      <td>1584</td>\n",
       "      <td>1</td>\n",
       "      <td>1</td>\n",
       "      <td>0</td>\n",
       "      <td>0</td>\n",
       "      <td>6380</td>\n",
       "    </tr>\n",
       "    <tr>\n",
       "      <th>4</th>\n",
       "      <td>4</td>\n",
       "      <td>709</td>\n",
       "      <td>3</td>\n",
       "      <td>2014-01-22</td>\n",
       "      <td>1477</td>\n",
       "      <td>1</td>\n",
       "      <td>1</td>\n",
       "      <td>0</td>\n",
       "      <td>0</td>\n",
       "      <td>11647</td>\n",
       "    </tr>\n",
       "  </tbody>\n",
       "</table>\n",
       "</div>"
      ],
      "text/plain": [
       "   True_index  Store_ID  Day_of_week        Date  Nb_customers_on_day  Open  \\\n",
       "0           0       625            3  2013-11-06                  641     1   \n",
       "1           1       293            2  2013-07-16                  877     1   \n",
       "2           2        39            4  2014-01-23                  561     1   \n",
       "3           3       676            4  2013-09-26                 1584     1   \n",
       "4           4       709            3  2014-01-22                 1477     1   \n",
       "\n",
       "   Promotion State_holiday  School_holiday  Sales  \n",
       "0          1             0               0   7293  \n",
       "1          1             0               1   7060  \n",
       "2          1             0               0   4565  \n",
       "3          1             0               0   6380  \n",
       "4          1             0               0  11647  "
      ]
     },
     "execution_count": 70,
     "metadata": {},
     "output_type": "execute_result"
    }
   ],
   "source": [
    "df = pd.read_csv('https://raw.githubusercontent.com/data-bootcamp-v4/data/main/sales.csv')\n",
    "df.head()"
   ]
  },
  {
   "cell_type": "markdown",
   "id": "27696a03",
   "metadata": {},
   "source": [
    "# EDA"
   ]
  },
  {
   "cell_type": "code",
   "execution_count": 71,
   "id": "623fde19",
   "metadata": {},
   "outputs": [
    {
     "data": {
      "text/plain": [
       "(640840, 10)"
      ]
     },
     "execution_count": 71,
     "metadata": {},
     "output_type": "execute_result"
    }
   ],
   "source": [
    "df.shape"
   ]
  },
  {
   "cell_type": "code",
   "execution_count": 72,
   "id": "add6c48c",
   "metadata": {},
   "outputs": [
    {
     "data": {
      "text/plain": [
       "<bound method DataFrame.info of         True_index  Store_ID  Day_of_week        Date  Nb_customers_on_day  \\\n",
       "0                0       625            3  2013-11-06                  641   \n",
       "1                1       293            2  2013-07-16                  877   \n",
       "2                2        39            4  2014-01-23                  561   \n",
       "3                3       676            4  2013-09-26                 1584   \n",
       "4                4       709            3  2014-01-22                 1477   \n",
       "...            ...       ...          ...         ...                  ...   \n",
       "640835      712040       674            6  2014-09-20                  611   \n",
       "640836      712041      1014            4  2015-01-15                 1267   \n",
       "640837      712042       135            6  2015-06-20                  595   \n",
       "640838      712043       810            1  2014-08-18                  599   \n",
       "640839      712044       592            1  2013-03-18                  798   \n",
       "\n",
       "        Open  Promotion State_holiday  School_holiday  Sales  \n",
       "0          1          1             0               0   7293  \n",
       "1          1          1             0               1   7060  \n",
       "2          1          1             0               0   4565  \n",
       "3          1          1             0               0   6380  \n",
       "4          1          1             0               0  11647  \n",
       "...      ...        ...           ...             ...    ...  \n",
       "640835     1          0             0               0   4702  \n",
       "640836     1          1             0               0  12545  \n",
       "640837     1          0             0               0   5823  \n",
       "640838     1          1             0               1   7986  \n",
       "640839     1          1             0               0   6565  \n",
       "\n",
       "[640840 rows x 10 columns]>"
      ]
     },
     "execution_count": 72,
     "metadata": {},
     "output_type": "execute_result"
    }
   ],
   "source": [
    "df.info"
   ]
  },
  {
   "cell_type": "code",
   "execution_count": 73,
   "id": "7888956a",
   "metadata": {},
   "outputs": [
    {
     "data": {
      "application/vnd.microsoft.datawrangler.viewer.v0+json": {
       "columns": [
        {
         "name": "index",
         "rawType": "object",
         "type": "string"
        },
        {
         "name": "0",
         "rawType": "int64",
         "type": "integer"
        }
       ],
       "ref": "3851c260-b82f-4089-888a-e818d0106770",
       "rows": [
        [
         "True_index",
         "0"
        ],
        [
         "Store_ID",
         "0"
        ],
        [
         "Day_of_week",
         "0"
        ],
        [
         "Date",
         "0"
        ],
        [
         "Nb_customers_on_day",
         "0"
        ],
        [
         "Open",
         "0"
        ],
        [
         "Promotion",
         "0"
        ],
        [
         "State_holiday",
         "0"
        ],
        [
         "School_holiday",
         "0"
        ],
        [
         "Sales",
         "0"
        ]
       ],
       "shape": {
        "columns": 1,
        "rows": 10
       }
      },
      "text/plain": [
       "True_index             0\n",
       "Store_ID               0\n",
       "Day_of_week            0\n",
       "Date                   0\n",
       "Nb_customers_on_day    0\n",
       "Open                   0\n",
       "Promotion              0\n",
       "State_holiday          0\n",
       "School_holiday         0\n",
       "Sales                  0\n",
       "dtype: int64"
      ]
     },
     "execution_count": 73,
     "metadata": {},
     "output_type": "execute_result"
    }
   ],
   "source": [
    "df.isnull().sum()"
   ]
  },
  {
   "cell_type": "code",
   "execution_count": 74,
   "id": "d1ea6ff1",
   "metadata": {},
   "outputs": [
    {
     "data": {
      "application/vnd.microsoft.datawrangler.viewer.v0+json": {
       "columns": [
        {
         "name": "index",
         "rawType": "object",
         "type": "string"
        },
        {
         "name": "True_index",
         "rawType": "float64",
         "type": "float"
        },
        {
         "name": "Store_ID",
         "rawType": "float64",
         "type": "float"
        },
        {
         "name": "Day_of_week",
         "rawType": "float64",
         "type": "float"
        },
        {
         "name": "Nb_customers_on_day",
         "rawType": "float64",
         "type": "float"
        },
        {
         "name": "Open",
         "rawType": "float64",
         "type": "float"
        },
        {
         "name": "Promotion",
         "rawType": "float64",
         "type": "float"
        },
        {
         "name": "School_holiday",
         "rawType": "float64",
         "type": "float"
        },
        {
         "name": "Sales",
         "rawType": "float64",
         "type": "float"
        }
       ],
       "ref": "3fa6e651-2f1a-45f4-9e7f-f082d1f61944",
       "rows": [
        [
         "count",
         "640840.0",
         "640840.0",
         "640840.0",
         "640840.0",
         "640840.0",
         "640840.0",
         "640840.0",
         "640840.0"
        ],
        [
         "mean",
         "355990.6750842644",
         "558.2113476062668",
         "4.000188814680731",
         "633.3985768678609",
         "0.8301853816865364",
         "0.38171774545908493",
         "0.17847200549279071",
         "5777.469010985581"
        ],
        [
         "std",
         "205536.29026797015",
         "321.87852116922284",
         "1.9964776747388904",
         "464.09441563511086",
         "0.3754701502245493",
         "0.48580827138128063",
         "0.3829098817497343",
         "3851.338083142311"
        ],
        [
         "min",
         "0.0",
         "1.0",
         "1.0",
         "0.0",
         "0.0",
         "0.0",
         "0.0",
         "0.0"
        ],
        [
         "25%",
         "178075.75",
         "280.0",
         "2.0",
         "405.0",
         "1.0",
         "0.0",
         "0.0",
         "3731.0"
        ],
        [
         "50%",
         "355948.5",
         "558.0",
         "4.0",
         "609.0",
         "1.0",
         "0.0",
         "0.0",
         "5746.0"
        ],
        [
         "75%",
         "533959.25",
         "837.0",
         "6.0",
         "838.0",
         "1.0",
         "1.0",
         "0.0",
         "7860.0"
        ],
        [
         "max",
         "712044.0",
         "1115.0",
         "7.0",
         "5458.0",
         "1.0",
         "1.0",
         "1.0",
         "41551.0"
        ]
       ],
       "shape": {
        "columns": 8,
        "rows": 8
       }
      },
      "text/html": [
       "<div>\n",
       "<style scoped>\n",
       "    .dataframe tbody tr th:only-of-type {\n",
       "        vertical-align: middle;\n",
       "    }\n",
       "\n",
       "    .dataframe tbody tr th {\n",
       "        vertical-align: top;\n",
       "    }\n",
       "\n",
       "    .dataframe thead th {\n",
       "        text-align: right;\n",
       "    }\n",
       "</style>\n",
       "<table border=\"1\" class=\"dataframe\">\n",
       "  <thead>\n",
       "    <tr style=\"text-align: right;\">\n",
       "      <th></th>\n",
       "      <th>True_index</th>\n",
       "      <th>Store_ID</th>\n",
       "      <th>Day_of_week</th>\n",
       "      <th>Nb_customers_on_day</th>\n",
       "      <th>Open</th>\n",
       "      <th>Promotion</th>\n",
       "      <th>School_holiday</th>\n",
       "      <th>Sales</th>\n",
       "    </tr>\n",
       "  </thead>\n",
       "  <tbody>\n",
       "    <tr>\n",
       "      <th>count</th>\n",
       "      <td>640840.000000</td>\n",
       "      <td>640840.000000</td>\n",
       "      <td>640840.000000</td>\n",
       "      <td>640840.000000</td>\n",
       "      <td>640840.000000</td>\n",
       "      <td>640840.000000</td>\n",
       "      <td>640840.000000</td>\n",
       "      <td>640840.000000</td>\n",
       "    </tr>\n",
       "    <tr>\n",
       "      <th>mean</th>\n",
       "      <td>355990.675084</td>\n",
       "      <td>558.211348</td>\n",
       "      <td>4.000189</td>\n",
       "      <td>633.398577</td>\n",
       "      <td>0.830185</td>\n",
       "      <td>0.381718</td>\n",
       "      <td>0.178472</td>\n",
       "      <td>5777.469011</td>\n",
       "    </tr>\n",
       "    <tr>\n",
       "      <th>std</th>\n",
       "      <td>205536.290268</td>\n",
       "      <td>321.878521</td>\n",
       "      <td>1.996478</td>\n",
       "      <td>464.094416</td>\n",
       "      <td>0.375470</td>\n",
       "      <td>0.485808</td>\n",
       "      <td>0.382910</td>\n",
       "      <td>3851.338083</td>\n",
       "    </tr>\n",
       "    <tr>\n",
       "      <th>min</th>\n",
       "      <td>0.000000</td>\n",
       "      <td>1.000000</td>\n",
       "      <td>1.000000</td>\n",
       "      <td>0.000000</td>\n",
       "      <td>0.000000</td>\n",
       "      <td>0.000000</td>\n",
       "      <td>0.000000</td>\n",
       "      <td>0.000000</td>\n",
       "    </tr>\n",
       "    <tr>\n",
       "      <th>25%</th>\n",
       "      <td>178075.750000</td>\n",
       "      <td>280.000000</td>\n",
       "      <td>2.000000</td>\n",
       "      <td>405.000000</td>\n",
       "      <td>1.000000</td>\n",
       "      <td>0.000000</td>\n",
       "      <td>0.000000</td>\n",
       "      <td>3731.000000</td>\n",
       "    </tr>\n",
       "    <tr>\n",
       "      <th>50%</th>\n",
       "      <td>355948.500000</td>\n",
       "      <td>558.000000</td>\n",
       "      <td>4.000000</td>\n",
       "      <td>609.000000</td>\n",
       "      <td>1.000000</td>\n",
       "      <td>0.000000</td>\n",
       "      <td>0.000000</td>\n",
       "      <td>5746.000000</td>\n",
       "    </tr>\n",
       "    <tr>\n",
       "      <th>75%</th>\n",
       "      <td>533959.250000</td>\n",
       "      <td>837.000000</td>\n",
       "      <td>6.000000</td>\n",
       "      <td>838.000000</td>\n",
       "      <td>1.000000</td>\n",
       "      <td>1.000000</td>\n",
       "      <td>0.000000</td>\n",
       "      <td>7860.000000</td>\n",
       "    </tr>\n",
       "    <tr>\n",
       "      <th>max</th>\n",
       "      <td>712044.000000</td>\n",
       "      <td>1115.000000</td>\n",
       "      <td>7.000000</td>\n",
       "      <td>5458.000000</td>\n",
       "      <td>1.000000</td>\n",
       "      <td>1.000000</td>\n",
       "      <td>1.000000</td>\n",
       "      <td>41551.000000</td>\n",
       "    </tr>\n",
       "  </tbody>\n",
       "</table>\n",
       "</div>"
      ],
      "text/plain": [
       "          True_index       Store_ID    Day_of_week  Nb_customers_on_day  \\\n",
       "count  640840.000000  640840.000000  640840.000000        640840.000000   \n",
       "mean   355990.675084     558.211348       4.000189           633.398577   \n",
       "std    205536.290268     321.878521       1.996478           464.094416   \n",
       "min         0.000000       1.000000       1.000000             0.000000   \n",
       "25%    178075.750000     280.000000       2.000000           405.000000   \n",
       "50%    355948.500000     558.000000       4.000000           609.000000   \n",
       "75%    533959.250000     837.000000       6.000000           838.000000   \n",
       "max    712044.000000    1115.000000       7.000000          5458.000000   \n",
       "\n",
       "                Open      Promotion  School_holiday          Sales  \n",
       "count  640840.000000  640840.000000   640840.000000  640840.000000  \n",
       "mean        0.830185       0.381718        0.178472    5777.469011  \n",
       "std         0.375470       0.485808        0.382910    3851.338083  \n",
       "min         0.000000       0.000000        0.000000       0.000000  \n",
       "25%         1.000000       0.000000        0.000000    3731.000000  \n",
       "50%         1.000000       0.000000        0.000000    5746.000000  \n",
       "75%         1.000000       1.000000        0.000000    7860.000000  \n",
       "max         1.000000       1.000000        1.000000   41551.000000  "
      ]
     },
     "execution_count": 74,
     "metadata": {},
     "output_type": "execute_result"
    }
   ],
   "source": [
    "df.describe()"
   ]
  },
  {
   "cell_type": "code",
   "execution_count": 75,
   "id": "aba45e7a",
   "metadata": {},
   "outputs": [
    {
     "data": {
      "application/vnd.microsoft.datawrangler.viewer.v0+json": {
       "columns": [
        {
         "name": "School_holiday",
         "rawType": "int64",
         "type": "integer"
        },
        {
         "name": "count",
         "rawType": "int64",
         "type": "integer"
        }
       ],
       "ref": "661723d2-e10c-418e-8f39-7da0e54eb384",
       "rows": [
        [
         "0",
         "526468"
        ],
        [
         "1",
         "114372"
        ]
       ],
       "shape": {
        "columns": 1,
        "rows": 2
       }
      },
      "text/plain": [
       "School_holiday\n",
       "0    526468\n",
       "1    114372\n",
       "Name: count, dtype: int64"
      ]
     },
     "execution_count": 75,
     "metadata": {},
     "output_type": "execute_result"
    }
   ],
   "source": [
    "df['School_holiday'].value_counts()"
   ]
  },
  {
   "cell_type": "code",
   "execution_count": 76,
   "id": "df9b03ab",
   "metadata": {},
   "outputs": [
    {
     "data": {
      "application/vnd.microsoft.datawrangler.viewer.v0+json": {
       "columns": [
        {
         "name": "State_holiday",
         "rawType": "object",
         "type": "string"
        },
        {
         "name": "count",
         "rawType": "int64",
         "type": "integer"
        }
       ],
       "ref": "bf61c7d9-c6cc-498a-9dc9-53cbf0be9dff",
       "rows": [
        [
         "0",
         "621160"
        ],
        [
         "a",
         "12842"
        ],
        [
         "b",
         "4214"
        ],
        [
         "c",
         "2624"
        ]
       ],
       "shape": {
        "columns": 1,
        "rows": 4
       }
      },
      "text/plain": [
       "State_holiday\n",
       "0    621160\n",
       "a     12842\n",
       "b      4214\n",
       "c      2624\n",
       "Name: count, dtype: int64"
      ]
     },
     "execution_count": 76,
     "metadata": {},
     "output_type": "execute_result"
    }
   ],
   "source": [
    "df['State_holiday'].value_counts()"
   ]
  },
  {
   "cell_type": "code",
   "execution_count": 77,
   "id": "c5c65331",
   "metadata": {},
   "outputs": [
    {
     "data": {
      "application/vnd.microsoft.datawrangler.viewer.v0+json": {
       "columns": [
        {
         "name": "State_holiday",
         "rawType": "object",
         "type": "string"
        },
        {
         "name": "proportion",
         "rawType": "float64",
         "type": "float"
        }
       ],
       "ref": "31db8c72-41d5-4623-a6d1-fb090d7ab036",
       "rows": [
        [
         "0",
         "96.92903064727545"
        ],
        [
         "a",
         "2.0039323388053183"
        ],
        [
         "b",
         "0.6575744335559578"
        ],
        [
         "c",
         "0.40946258036327315"
        ]
       ],
       "shape": {
        "columns": 1,
        "rows": 4
       }
      },
      "text/plain": [
       "State_holiday\n",
       "0    96.929031\n",
       "a     2.003932\n",
       "b     0.657574\n",
       "c     0.409463\n",
       "Name: proportion, dtype: float64"
      ]
     },
     "execution_count": 77,
     "metadata": {},
     "output_type": "execute_result"
    }
   ],
   "source": [
    "df['State_holiday'].value_counts(normalize=True) * 100"
   ]
  },
  {
   "cell_type": "code",
   "execution_count": 78,
   "id": "e4a2b12c",
   "metadata": {},
   "outputs": [
    {
     "data": {
      "application/vnd.microsoft.datawrangler.viewer.v0+json": {
       "columns": [
        {
         "name": "School_holiday",
         "rawType": "int64",
         "type": "integer"
        },
        {
         "name": "proportion",
         "rawType": "float64",
         "type": "float"
        }
       ],
       "ref": "b99399f4-1f8e-4147-becd-190e93b323e4",
       "rows": [
        [
         "0",
         "82.15279945072092"
        ],
        [
         "1",
         "17.847200549279073"
        ]
       ],
       "shape": {
        "columns": 1,
        "rows": 2
       }
      },
      "text/plain": [
       "School_holiday\n",
       "0    82.152799\n",
       "1    17.847201\n",
       "Name: proportion, dtype: float64"
      ]
     },
     "execution_count": 78,
     "metadata": {},
     "output_type": "execute_result"
    }
   ],
   "source": [
    "df['School_holiday'].value_counts(normalize=True) * 100"
   ]
  },
  {
   "cell_type": "code",
   "execution_count": 79,
   "id": "afee49e1",
   "metadata": {},
   "outputs": [
    {
     "data": {
      "application/vnd.microsoft.datawrangler.viewer.v0+json": {
       "columns": [
        {
         "name": "Open",
         "rawType": "int64",
         "type": "integer"
        },
        {
         "name": "count",
         "rawType": "int64",
         "type": "integer"
        }
       ],
       "ref": "64518687-c308-4759-bdef-cd1fda8e90c0",
       "rows": [
        [
         "1",
         "532016"
        ],
        [
         "0",
         "108824"
        ]
       ],
       "shape": {
        "columns": 1,
        "rows": 2
       }
      },
      "text/plain": [
       "Open\n",
       "1    532016\n",
       "0    108824\n",
       "Name: count, dtype: int64"
      ]
     },
     "execution_count": 79,
     "metadata": {},
     "output_type": "execute_result"
    }
   ],
   "source": [
    "df['Open'].value_counts()\n"
   ]
  },
  {
   "cell_type": "code",
   "execution_count": 80,
   "id": "1d68c439",
   "metadata": {},
   "outputs": [
    {
     "data": {
      "text/plain": [
       "np.int64(108855)"
      ]
     },
     "execution_count": 80,
     "metadata": {},
     "output_type": "execute_result"
    }
   ],
   "source": [
    "(df['Sales'] == 0).sum()"
   ]
  },
  {
   "cell_type": "code",
   "execution_count": 81,
   "id": "e9d5835c",
   "metadata": {},
   "outputs": [],
   "source": [
    "store_sales_mean = df.groupby('Store_ID')['Sales'].mean().round(2)\n"
   ]
  },
  {
   "cell_type": "code",
   "execution_count": 82,
   "id": "7097a6ef",
   "metadata": {},
   "outputs": [
    {
     "data": {
      "application/vnd.microsoft.datawrangler.viewer.v0+json": {
       "columns": [
        {
         "name": "index",
         "rawType": "object",
         "type": "string"
        },
        {
         "name": "Sales",
         "rawType": "float64",
         "type": "float"
        }
       ],
       "ref": "934e73e7-8c4b-427d-a458-dc9750bcb8b6",
       "rows": [
        [
         "count",
         "1115.0"
        ],
        [
         "mean",
         "5765.794331838565"
        ],
        [
         "std",
         "2047.8215853516867"
        ],
        [
         "min",
         "2230.76"
        ],
        [
         "25%",
         "4412.889999999999"
        ],
        [
         "50%",
         "5468.42"
        ],
        [
         "75%",
         "6633.285"
        ],
        [
         "max",
         "20780.1"
        ]
       ],
       "shape": {
        "columns": 1,
        "rows": 8
       }
      },
      "text/plain": [
       "count     1115.000000\n",
       "mean      5765.794332\n",
       "std       2047.821585\n",
       "min       2230.760000\n",
       "25%       4412.890000\n",
       "50%       5468.420000\n",
       "75%       6633.285000\n",
       "max      20780.100000\n",
       "Name: Sales, dtype: float64"
      ]
     },
     "execution_count": 82,
     "metadata": {},
     "output_type": "execute_result"
    }
   ],
   "source": [
    "store_sales_mean.describe()"
   ]
  },
  {
   "cell_type": "code",
   "execution_count": 83,
   "id": "f53575e7",
   "metadata": {},
   "outputs": [
    {
     "data": {
      "application/vnd.microsoft.datawrangler.viewer.v0+json": {
       "columns": [
        {
         "name": "Store_ID",
         "rawType": "int64",
         "type": "integer"
        },
        {
         "name": "Sales",
         "rawType": "float64",
         "type": "float"
        }
       ],
       "ref": "4eaed252-f161-4716-ab0b-a05ae066d784",
       "rows": [
        [
         "262",
         "20780.1"
        ],
        [
         "562",
         "18022.99"
        ],
        [
         "817",
         "18006.01"
        ],
        [
         "1114",
         "17191.45"
        ],
        [
         "251",
         "15659.56"
        ],
        [
         "842",
         "15587.46"
        ],
        [
         "788",
         "15063.64"
        ],
        [
         "733",
         "14962.56"
        ],
        [
         "513",
         "14905.77"
        ],
        [
         "383",
         "14276.15"
        ]
       ],
       "shape": {
        "columns": 1,
        "rows": 10
       }
      },
      "text/plain": [
       "Store_ID\n",
       "262     20780.10\n",
       "562     18022.99\n",
       "817     18006.01\n",
       "1114    17191.45\n",
       "251     15659.56\n",
       "842     15587.46\n",
       "788     15063.64\n",
       "733     14962.56\n",
       "513     14905.77\n",
       "383     14276.15\n",
       "Name: Sales, dtype: float64"
      ]
     },
     "execution_count": 83,
     "metadata": {},
     "output_type": "execute_result"
    }
   ],
   "source": [
    "top_10_stores = store_sales_mean.sort_values(ascending=False).head(10)\n",
    "top_10_stores"
   ]
  },
  {
   "cell_type": "code",
   "execution_count": 84,
   "id": "39ce8a97",
   "metadata": {},
   "outputs": [
    {
     "data": {
      "image/png": "[encoded data removed]",
      "text/plain": [
       "<Figure size 1000x600 with 1 Axes>"
      ]
     },
     "metadata": {},
     "output_type": "display_data"
    }
   ],
   "source": [
    "top_10_stores.plot(kind='bar', figsize=(10, 6))\n",
    "plt.title('Top 10 Stores by Average Sales')\n",
    "plt.xlabel('Store_ID')\n",
    "plt.ylabel('Average Sales')\n",
    "plt.xticks(rotation=45)\n",
    "plt.tight_layout()\n",
    "plt.show()"
   ]
  },
  {
   "cell_type": "code",
   "execution_count": 85,
   "id": "177b42f7",
   "metadata": {},
   "outputs": [],
   "source": [
    "top_10_worst = store_sales_mean.sort_values(ascending=False).tail(10)"
   ]
  },
  {
   "cell_type": "code",
   "execution_count": 86,
   "id": "310680cc",
   "metadata": {},
   "outputs": [
    {
     "data": {
      "application/vnd.microsoft.datawrangler.viewer.v0+json": {
       "columns": [
        {
         "name": "Store_ID",
         "rawType": "int64",
         "type": "integer"
        },
        {
         "name": "Sales",
         "rawType": "float64",
         "type": "float"
        }
       ],
       "ref": "8e9d1e94-ea6a-4e00-8bf8-d439c746725c",
       "rows": [
        [
         "210",
         "2630.55"
        ],
        [
         "219",
         "2599.59"
        ],
        [
         "794",
         "2552.33"
        ],
        [
         "841",
         "2525.45"
        ],
        [
         "254",
         "2485.54"
        ],
        [
         "972",
         "2472.8"
        ],
        [
         "208",
         "2457.99"
        ],
        [
         "198",
         "2418.99"
        ],
        [
         "543",
         "2343.75"
        ],
        [
         "307",
         "2230.76"
        ]
       ],
       "shape": {
        "columns": 1,
        "rows": 10
       }
      },
      "text/plain": [
       "Store_ID\n",
       "210    2630.55\n",
       "219    2599.59\n",
       "794    2552.33\n",
       "841    2525.45\n",
       "254    2485.54\n",
       "972    2472.80\n",
       "208    2457.99\n",
       "198    2418.99\n",
       "543    2343.75\n",
       "307    2230.76\n",
       "Name: Sales, dtype: float64"
      ]
     },
     "execution_count": 86,
     "metadata": {},
     "output_type": "execute_result"
    }
   ],
   "source": [
    "top_10_worst "
   ]
  },
  {
   "cell_type": "code",
   "execution_count": 87,
   "id": "4a98f6d9",
   "metadata": {},
   "outputs": [
    {
     "data": {
      "image/png": "[encoded data removed]",
      "text/plain": [
       "<Figure size 1000x600 with 1 Axes>"
      ]
     },
     "metadata": {},
     "output_type": "display_data"
    }
   ],
   "source": [
    "top_10_worst.plot(kind='bar', figsize=(10, 6))\n",
    "plt.title('Bottom 10 Stores by Average Sales')\n",
    "plt.xlabel('Store_ID')\n",
    "plt.ylabel('Average Sales')\n",
    "plt.xticks(rotation=45)\n",
    "plt.tight_layout()\n",
    "plt.show()"
   ]
  },
  {
   "cell_type": "code",
   "execution_count": 88,
   "id": "72f15653",
   "metadata": {},
   "outputs": [
    {
     "data": {
      "application/vnd.microsoft.datawrangler.viewer.v0+json": {
       "columns": [
        {
         "name": "Day_of_week",
         "rawType": "int64",
         "type": "integer"
        },
        {
         "name": "Sales",
         "rawType": "float64",
         "type": "float"
        }
       ],
       "ref": "cfa7a4b5-0419-41e7-ad3d-11c3c2359d79",
       "rows": [
        [
         "1",
         "7812.76694770861"
        ],
        [
         "2",
         "7004.7800536614095"
        ],
        [
         "5",
         "6726.46269725846"
        ],
        [
         "3",
         "6555.350536273472"
        ],
        [
         "4",
         "6255.380267907624"
        ],
        [
         "6",
         "5850.032819906511"
        ],
        [
         "7",
         "210.6804391984628"
        ]
       ],
       "shape": {
        "columns": 1,
        "rows": 7
       }
      },
      "text/plain": [
       "Day_of_week\n",
       "1    7812.766948\n",
       "2    7004.780054\n",
       "5    6726.462697\n",
       "3    6555.350536\n",
       "4    6255.380268\n",
       "6    5850.032820\n",
       "7     210.680439\n",
       "Name: Sales, dtype: float64"
      ]
     },
     "execution_count": 88,
     "metadata": {},
     "output_type": "execute_result"
    }
   ],
   "source": [
    "day_sales_mean = df.groupby('Day_of_week')['Sales'].mean().sort_values(ascending=False)\n",
    "day_sales_mean"
   ]
  },
  {
   "cell_type": "code",
   "execution_count": 89,
   "id": "5ed0c403",
   "metadata": {},
   "outputs": [
    {
     "data": {
      "application/vnd.microsoft.datawrangler.viewer.v0+json": {
       "columns": [
        {
         "name": "Day_of_week",
         "rawType": "int64",
         "type": "integer"
        },
        {
         "name": "0",
         "rawType": "float64",
         "type": "float"
        },
        {
         "name": "1",
         "rawType": "float64",
         "type": "float"
        }
       ],
       "ref": "6bf529d2-bec4-4657-8a98-bd8acbc2e7fc",
       "rows": [
        [
         "1",
         "5604.67",
         "9708.98"
        ],
        [
         "2",
         "5612.97",
         "8229.79"
        ],
        [
         "3",
         "5422.48",
         "7550.77"
        ],
        [
         "4",
         "5100.9",
         "7265.76"
        ],
        [
         "5",
         "6177.16",
         "7208.35"
        ],
        [
         "6",
         "5850.03",
         null
        ],
        [
         "7",
         "210.68",
         null
        ]
       ],
       "shape": {
        "columns": 2,
        "rows": 7
       }
      },
      "text/html": [
       "<div>\n",
       "<style scoped>\n",
       "    .dataframe tbody tr th:only-of-type {\n",
       "        vertical-align: middle;\n",
       "    }\n",
       "\n",
       "    .dataframe tbody tr th {\n",
       "        vertical-align: top;\n",
       "    }\n",
       "\n",
       "    .dataframe thead th {\n",
       "        text-align: right;\n",
       "    }\n",
       "</style>\n",
       "<table border=\"1\" class=\"dataframe\">\n",
       "  <thead>\n",
       "    <tr style=\"text-align: right;\">\n",
       "      <th>Promotion</th>\n",
       "      <th>0</th>\n",
       "      <th>1</th>\n",
       "    </tr>\n",
       "    <tr>\n",
       "      <th>Day_of_week</th>\n",
       "      <th></th>\n",
       "      <th></th>\n",
       "    </tr>\n",
       "  </thead>\n",
       "  <tbody>\n",
       "    <tr>\n",
       "      <th>1</th>\n",
       "      <td>5604.67</td>\n",
       "      <td>9708.98</td>\n",
       "    </tr>\n",
       "    <tr>\n",
       "      <th>2</th>\n",
       "      <td>5612.97</td>\n",
       "      <td>8229.79</td>\n",
       "    </tr>\n",
       "    <tr>\n",
       "      <th>3</th>\n",
       "      <td>5422.48</td>\n",
       "      <td>7550.77</td>\n",
       "    </tr>\n",
       "    <tr>\n",
       "      <th>4</th>\n",
       "      <td>5100.90</td>\n",
       "      <td>7265.76</td>\n",
       "    </tr>\n",
       "    <tr>\n",
       "      <th>5</th>\n",
       "      <td>6177.16</td>\n",
       "      <td>7208.35</td>\n",
       "    </tr>\n",
       "    <tr>\n",
       "      <th>6</th>\n",
       "      <td>5850.03</td>\n",
       "      <td>NaN</td>\n",
       "    </tr>\n",
       "    <tr>\n",
       "      <th>7</th>\n",
       "      <td>210.68</td>\n",
       "      <td>NaN</td>\n",
       "    </tr>\n",
       "  </tbody>\n",
       "</table>\n",
       "</div>"
      ],
      "text/plain": [
       "Promotion          0        1\n",
       "Day_of_week                  \n",
       "1            5604.67  9708.98\n",
       "2            5612.97  8229.79\n",
       "3            5422.48  7550.77\n",
       "4            5100.90  7265.76\n",
       "5            6177.16  7208.35\n",
       "6            5850.03      NaN\n",
       "7             210.68      NaN"
      ]
     },
     "execution_count": 89,
     "metadata": {},
     "output_type": "execute_result"
    }
   ],
   "source": [
    "# Group by 'Day_of_week' and 'Promotion', then calculate mean sales for each group\n",
    "mean_sales_by_day_promo = df.groupby(['Day_of_week', 'Promotion'])['Sales'].mean().unstack().round(2)\n",
    "mean_sales_by_day_promo"
   ]
  },
  {
   "cell_type": "code",
   "execution_count": 90,
   "id": "ae0289da",
   "metadata": {},
   "outputs": [
    {
     "data": {
      "text/plain": [
       "73.23018125955677"
      ]
     },
     "execution_count": 90,
     "metadata": {},
     "output_type": "execute_result"
    }
   ],
   "source": [
    "# If 5604.67 is 100%, what percentage is 4104.31?\n",
    "percentage_4104_31 = (4104.31 / 5604.67) * 100\n",
    "percentage_4104_31"
   ]
  },
  {
   "cell_type": "code",
   "execution_count": 91,
   "id": "5fbc2bfb",
   "metadata": {},
   "outputs": [
    {
     "data": {
      "text/plain": [
       "63.40082214233706"
      ]
     },
     "execution_count": 91,
     "metadata": {},
     "output_type": "execute_result"
    }
   ],
   "source": [
    "# 5604.67 + 9708.98 = 100%, what is 9708.98 in percentage?\n",
    "total = 5604.67 + 9708.98\n",
    "percentage = (9708.98 / total) * 100\n",
    "percentage"
   ]
  },
  {
   "cell_type": "code",
   "execution_count": 92,
   "id": "450ee576",
   "metadata": {},
   "outputs": [
    {
     "data": {
      "application/vnd.microsoft.datawrangler.viewer.v0+json": {
       "columns": [
        {
         "name": "Day_of_week",
         "rawType": "int64",
         "type": "integer"
        },
        {
         "name": "0",
         "rawType": "float64",
         "type": "float"
        }
       ],
       "ref": "4a963601-928a-4b8d-8651-ff743c9ddc9b",
       "rows": [
        [
         "1",
         "73.23"
        ],
        [
         "2",
         "46.62"
        ],
        [
         "3",
         "39.25"
        ],
        [
         "4",
         "42.44"
        ],
        [
         "5",
         "16.69"
        ],
        [
         "6",
         null
        ],
        [
         "7",
         null
        ]
       ],
       "shape": {
        "columns": 1,
        "rows": 7
       }
      },
      "text/plain": [
       "Day_of_week\n",
       "1    73.23\n",
       "2    46.62\n",
       "3    39.25\n",
       "4    42.44\n",
       "5    16.69\n",
       "6      NaN\n",
       "7      NaN\n",
       "dtype: float64"
      ]
     },
     "execution_count": 92,
     "metadata": {},
     "output_type": "execute_result"
    }
   ],
   "source": [
    "# Calculate the percentage difference between promotion and no-promotion days for each day of the week\n",
    "promo_diff_pct = ((mean_sales_by_day_promo[1] - mean_sales_by_day_promo[0]) / mean_sales_by_day_promo[0]) * 100\n",
    "promo_diff_pct = promo_diff_pct.round(2)\n",
    "promo_diff_pct"
   ]
  },
  {
   "cell_type": "code",
   "execution_count": 93,
   "id": "e794cdaf",
   "metadata": {},
   "outputs": [
    {
     "data": {
      "text/plain": [
       "np.float64(64.66)"
      ]
     },
     "execution_count": 93,
     "metadata": {},
     "output_type": "execute_result"
    }
   ],
   "source": [
    "# Calculate the overall mean sales for promotion and no-promotion days (excluding NaN)\n",
    "mean_no_promo = mean_sales_by_day_promo[0].mean()\n",
    "mean_promo = mean_sales_by_day_promo[1].mean()\n",
    "\n",
    "# Calculate the percentage difference for all days together\n",
    "overall_promo_diff_pct = ((mean_promo - mean_no_promo) / mean_no_promo) * 100\n",
    "overall_promo_diff_pct = round(overall_promo_diff_pct, 2)\n",
    "overall_promo_diff_pct"
   ]
  },
  {
   "cell_type": "markdown",
   "id": "017b03e3",
   "metadata": {},
   "source": [
    "# Data Cleaning"
   ]
  },
  {
   "cell_type": "code",
   "execution_count": 94,
   "id": "0270300c",
   "metadata": {},
   "outputs": [
    {
     "name": "stdout",
     "output_type": "stream",
     "text": [
      "<class 'pandas.core.frame.DataFrame'>\n",
      "RangeIndex: 640840 entries, 0 to 640839\n",
      "Data columns (total 10 columns):\n",
      " #   Column               Non-Null Count   Dtype \n",
      "---  ------               --------------   ----- \n",
      " 0   True_index           640840 non-null  int64 \n",
      " 1   Store_ID             640840 non-null  int64 \n",
      " 2   Day_of_week          640840 non-null  int64 \n",
      " 3   Date                 640840 non-null  object\n",
      " 4   Nb_customers_on_day  640840 non-null  int64 \n",
      " 5   Open                 640840 non-null  int64 \n",
      " 6   Promotion            640840 non-null  int64 \n",
      " 7   State_holiday        640840 non-null  object\n",
      " 8   School_holiday       640840 non-null  int64 \n",
      " 9   Sales                640840 non-null  int64 \n",
      "dtypes: int64(8), object(2)\n",
      "memory usage: 105.7 MB\n",
      "None\n"
     ]
    }
   ],
   "source": [
    "print(df.info(memory_usage='deep'))\n"
   ]
  },
  {
   "cell_type": "code",
   "execution_count": 95,
   "id": "6471f8c0",
   "metadata": {},
   "outputs": [],
   "source": [
    "df = df.drop(['Date', 'True_index'], axis=1)"
   ]
  },
  {
   "cell_type": "code",
   "execution_count": 96,
   "id": "730db640",
   "metadata": {},
   "outputs": [],
   "source": [
    "df['State_holiday'] = df['State_holiday'].replace({'a': 1, 'b': 2, 'c': 3})"
   ]
  },
  {
   "cell_type": "code",
   "execution_count": 97,
   "id": "a16691d3",
   "metadata": {},
   "outputs": [],
   "source": [
    "#!pip install dask  \n",
    "#import dask.dataframe as dd\n",
    "#df_dask = dd.from_pandas(df, npartitions=4)\n"
   ]
  },
  {
   "cell_type": "markdown",
   "id": "57a1319a",
   "metadata": {},
   "source": [
    "# Models"
   ]
  },
  {
   "cell_type": "code",
   "execution_count": 98,
   "id": "fa7f0843",
   "metadata": {},
   "outputs": [],
   "source": [
    "X = df[['Promotion', 'Day_of_week', 'Nb_customers_on_day','Store_ID']]\n",
    "y = df['Sales']\n",
    "\n",
    "# Split data into train and test\n",
    "X_train, X_test, y_train, y_test = train_test_split(X, y_encoded, test_size=0.2, random_state=42)"
   ]
  },
  {
   "cell_type": "code",
   "execution_count": 99,
   "id": "64ca1737",
   "metadata": {},
   "outputs": [
    {
     "name": "stdout",
     "output_type": "stream",
     "text": [
      "Gradient Boosting MSE: 336842.34\n",
      "Gradient Boosting R2 Score: 0.97\n"
     ]
    }
   ],
   "source": [
    "\n",
    "\n",
    "# Initialize and train Gradient Boosting model\n",
    "gbr = GradientBoostingRegressor(n_estimators=1200, max_depth=5, random_state=42)\n",
    "gbr.fit(X_train, y_train)\n",
    "\n",
    "# Predict on test set\n",
    "y_pred_gbr = gbr.predict(X_test)\n",
    "\n",
    "# Evaluate model\n",
    "mse = mean_squared_error(y_test, y_pred_gbr)\n",
    "r2 = r2_score(y_test, y_pred_gbr)\n",
    "\n",
    "print(f\"Gradient Boosting MSE: {mse:.2f}\")\n",
    "print(f\"Gradient Boosting R2 Score: {r2:.2f}\")"
   ]
  },
  {
   "cell_type": "code",
   "execution_count": 100,
   "id": "504dd1c3",
   "metadata": {},
   "outputs": [
    {
     "data": {
      "application/vnd.microsoft.datawrangler.viewer.v0+json": {
       "columns": [
        {
         "name": "index",
         "rawType": "int64",
         "type": "integer"
        },
        {
         "name": "True_index",
         "rawType": "int64",
         "type": "integer"
        },
        {
         "name": "Store_ID",
         "rawType": "int64",
         "type": "integer"
        },
        {
         "name": "Day_of_week",
         "rawType": "int64",
         "type": "integer"
        },
        {
         "name": "Date",
         "rawType": "object",
         "type": "string"
        },
        {
         "name": "Nb_customers_on_day",
         "rawType": "int64",
         "type": "integer"
        },
        {
         "name": "Open",
         "rawType": "int64",
         "type": "integer"
        },
        {
         "name": "Promotion",
         "rawType": "int64",
         "type": "integer"
        },
        {
         "name": "State_holiday",
         "rawType": "object",
         "type": "string"
        },
        {
         "name": "School_holiday",
         "rawType": "int64",
         "type": "integer"
        }
       ],
       "ref": "7cead681-bc06-4dd4-95ff-f9c4df080c44",
       "rows": [
        [
         "0",
         "7",
         "764",
         "4",
         "2013-12-26",
         "0",
         "0",
         "0",
         "c",
         "1"
        ],
        [
         "1",
         "19",
         "22",
         "3",
         "2013-05-22",
         "449",
         "1",
         "0",
         "0",
         "1"
        ],
        [
         "2",
         "31",
         "1087",
         "6",
         "2013-06-29",
         "622",
         "1",
         "0",
         "0",
         "0"
        ],
        [
         "3",
         "45",
         "139",
         "6",
         "2013-08-17",
         "314",
         "1",
         "0",
         "0",
         "0"
        ],
        [
         "4",
         "56",
         "568",
         "1",
         "2014-04-07",
         "356",
         "1",
         "0",
         "0",
         "0"
        ]
       ],
       "shape": {
        "columns": 9,
        "rows": 5
       }
      },
      "text/html": [
       "<div>\n",
       "<style scoped>\n",
       "    .dataframe tbody tr th:only-of-type {\n",
       "        vertical-align: middle;\n",
       "    }\n",
       "\n",
       "    .dataframe tbody tr th {\n",
       "        vertical-align: top;\n",
       "    }\n",
       "\n",
       "    .dataframe thead th {\n",
       "        text-align: right;\n",
       "    }\n",
       "</style>\n",
       "<table border=\"1\" class=\"dataframe\">\n",
       "  <thead>\n",
       "    <tr style=\"text-align: right;\">\n",
       "      <th></th>\n",
       "      <th>True_index</th>\n",
       "      <th>Store_ID</th>\n",
       "      <th>Day_of_week</th>\n",
       "      <th>Date</th>\n",
       "      <th>Nb_customers_on_day</th>\n",
       "      <th>Open</th>\n",
       "      <th>Promotion</th>\n",
       "      <th>State_holiday</th>\n",
       "      <th>School_holiday</th>\n",
       "    </tr>\n",
       "  </thead>\n",
       "  <tbody>\n",
       "    <tr>\n",
       "      <th>0</th>\n",
       "      <td>7</td>\n",
       "      <td>764</td>\n",
       "      <td>4</td>\n",
       "      <td>2013-12-26</td>\n",
       "      <td>0</td>\n",
       "      <td>0</td>\n",
       "      <td>0</td>\n",
       "      <td>c</td>\n",
       "      <td>1</td>\n",
       "    </tr>\n",
       "    <tr>\n",
       "      <th>1</th>\n",
       "      <td>19</td>\n",
       "      <td>22</td>\n",
       "      <td>3</td>\n",
       "      <td>2013-05-22</td>\n",
       "      <td>449</td>\n",
       "      <td>1</td>\n",
       "      <td>0</td>\n",
       "      <td>0</td>\n",
       "      <td>1</td>\n",
       "    </tr>\n",
       "    <tr>\n",
       "      <th>2</th>\n",
       "      <td>31</td>\n",
       "      <td>1087</td>\n",
       "      <td>6</td>\n",
       "      <td>2013-06-29</td>\n",
       "      <td>622</td>\n",
       "      <td>1</td>\n",
       "      <td>0</td>\n",
       "      <td>0</td>\n",
       "      <td>0</td>\n",
       "    </tr>\n",
       "    <tr>\n",
       "      <th>3</th>\n",
       "      <td>45</td>\n",
       "      <td>139</td>\n",
       "      <td>6</td>\n",
       "      <td>2013-08-17</td>\n",
       "      <td>314</td>\n",
       "      <td>1</td>\n",
       "      <td>0</td>\n",
       "      <td>0</td>\n",
       "      <td>0</td>\n",
       "    </tr>\n",
       "    <tr>\n",
       "      <th>4</th>\n",
       "      <td>56</td>\n",
       "      <td>568</td>\n",
       "      <td>1</td>\n",
       "      <td>2014-04-07</td>\n",
       "      <td>356</td>\n",
       "      <td>1</td>\n",
       "      <td>0</td>\n",
       "      <td>0</td>\n",
       "      <td>0</td>\n",
       "    </tr>\n",
       "  </tbody>\n",
       "</table>\n",
       "</div>"
      ],
      "text/plain": [
       "   True_index  Store_ID  Day_of_week        Date  Nb_customers_on_day  Open  \\\n",
       "0           7       764            4  2013-12-26                    0     0   \n",
       "1          19        22            3  2013-05-22                  449     1   \n",
       "2          31      1087            6  2013-06-29                  622     1   \n",
       "3          45       139            6  2013-08-17                  314     1   \n",
       "4          56       568            1  2014-04-07                  356     1   \n",
       "\n",
       "   Promotion State_holiday  School_holiday  \n",
       "0          0             c               1  \n",
       "1          0             0               1  \n",
       "2          0             0               0  \n",
       "3          0             0               0  \n",
       "4          0             0               0  "
      ]
     },
     "execution_count": 100,
     "metadata": {},
     "output_type": "execute_result"
    }
   ],
   "source": [
    "df_2 = pd.read_csv('https://raw.githubusercontent.com/data-bootcamp-v4/data/main/ironkaggle_notarget.csv')\n",
    "df_2.head()"
   ]
  },
  {
   "cell_type": "code",
   "execution_count": null,
   "id": "246f9328",
   "metadata": {},
   "outputs": [
    {
     "name": "stdout",
     "output_type": "stream",
     "text": [
      "   True_index  Store_ID  Day_of_week        Date  Nb_customers_on_day  Open  \\\n",
      "0           7       764            4  2013-12-26                    0     0   \n",
      "1          19        22            3  2013-05-22                  449     1   \n",
      "2          31      1087            6  2013-06-29                  622     1   \n",
      "3          45       139            6  2013-08-17                  314     1   \n",
      "4          56       568            1  2014-04-07                  356     1   \n",
      "\n",
      "   Promotion State_holiday  School_holiday        Sales  \n",
      "0          0             c               1  -117.953673  \n",
      "1          0             0               1  2732.410375  \n",
      "2          0             0               0  4953.917766  \n",
      "3          0             0               0  2722.960718  \n",
      "4          0             0               0  2593.872973  \n"
     ]
    }
   ],
   "source": [
    "\n",
    "\n",
    "# 1. Prepare the features in df_2\n",
    "X_new = df_2[['Promotion', 'Day_of_week', 'Nb_customers_on_day', 'Store_ID']]\n",
    "\n",
    "# 2. Predict sales using the trained model\n",
    "predicted_sales = gbr.predict(X_new)\n",
    "\n",
    "# 3. Add predictions as a new column 'Sales' in df_2\n",
    "df_2['Sales'] = predicted_sales\n",
    "\n",
    "# 4. (Optional) Preview df_2\n",
    "print(df_2.head())\n"
   ]
  },
  {
   "cell_type": "code",
   "execution_count": 105,
   "id": "de714172",
   "metadata": {},
   "outputs": [],
   "source": [
    "\n",
    "df_2 = df_2.drop(['Sales'], axis=1)"
   ]
  },
  {
   "cell_type": "code",
   "execution_count": null,
   "id": "5b687677",
   "metadata": {},
   "outputs": [],
   "source": [
    "df_3 = df_2[['Predicted_sales']]\n",
    "df_3"
   ]
  },
  {
   "cell_type": "code",
   "execution_count": null,
   "id": "eb00d074",
   "metadata": {},
   "outputs": [],
   "source": []
  },
  {
   "cell_type": "code",
   "execution_count": null,
   "id": "506b0838",
   "metadata": {},
   "outputs": [],
   "source": []
  }
 ],
 "metadata": {
  "kernelspec": {
   "display_name": "Python 3",
   "language": "python",
   "name": "python3"
  },
  "language_info": {
   "codemirror_mode": {
    "name": "ipython",
    "version": 3
   },
   "file_extension": ".py",
   "mimetype": "text/x-python",
   "name": "python",
   "nbconvert_exporter": "python",
   "pygments_lexer": "ipython3",
   "version": "3.13.1"
  }
 },
 "nbformat": 4,
 "nbformat_minor": 5
}
